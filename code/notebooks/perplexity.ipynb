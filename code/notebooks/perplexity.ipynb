{
 "cells": [
  {
   "cell_type": "markdown",
   "metadata": {},
   "source": [
    "# Perplexity Impact"
   ]
  },
  {
   "cell_type": "markdown",
   "metadata": {},
   "source": [
    "## Setup and Dataset Loading"
   ]
  },
  {
   "cell_type": "code",
   "execution_count": null,
   "metadata": {},
   "outputs": [],
   "source": [
    "import numpy as np \n",
    "import pandas as pd \n",
    "import matplotlib.pyplot as plt \n",
    "from tqdm import tqdm\n",
    "from openTSNE import TSNE\n",
    "\n",
    "# for local imports  \n",
    "from pathlib import Path\n",
    "import sys\n",
    "import os \n",
    "\n",
    "script_dir = Path.cwd().parent / \"scripts\"\n",
    "sys.path.append(str(script_dir))\n",
    "\n",
    "figures_dir = Path.cwd().parent / \"figures\"\n",
    "sys.path.append(str(figures_dir))\n",
    "\n",
    "results_dir = Path.cwd().parent / \"results\"\n",
    "sys.path.append(str(results_dir))\n",
    "\n",
    "import datasets\n",
    "import quality_measures\n",
    "import styles"
   ]
  },
  {
   "cell_type": "markdown",
   "metadata": {},
   "source": [
    "## Helper Functions "
   ]
  },
  {
   "cell_type": "markdown",
   "metadata": {},
   "source": [
    "## Experiments"
   ]
  },
  {
   "cell_type": "markdown",
   "metadata": {},
   "source": []
  }
 ],
 "metadata": {
  "kernelspec": {
   "display_name": "wissrech",
   "language": "python",
   "name": "python3"
  },
  "language_info": {
   "name": "python",
   "version": "3.12.3"
  }
 },
 "nbformat": 4,
 "nbformat_minor": 2
}
