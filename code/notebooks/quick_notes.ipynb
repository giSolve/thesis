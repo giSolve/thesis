{
 "cells": [
  {
   "cell_type": "code",
   "execution_count": 1,
   "metadata": {},
   "outputs": [
    {
     "name": "stderr",
     "output_type": "stream",
     "text": [
      "2025-03-01 22:41:43.678459: I tensorflow/core/platform/cpu_feature_guard.cc:210] This TensorFlow binary is optimized to use available CPU instructions in performance-critical operations.\n",
      "To enable the following instructions: AVX2 AVX512F AVX512_VNNI FMA, in other operations, rebuild TensorFlow with the appropriate compiler flags.\n"
     ]
    }
   ],
   "source": [
    "import numpy as np\n",
    "import pandas as pd\n",
    "from keras.datasets import mnist"
   ]
  },
  {
   "cell_type": "code",
   "execution_count": 17,
   "metadata": {},
   "outputs": [],
   "source": [
    "import flowkit as fk"
   ]
  },
  {
   "cell_type": "code",
   "execution_count": 21,
   "metadata": {},
   "outputs": [
    {
     "name": "stdout",
     "output_type": "stream",
     "text": [
      "/Users/soli/Desktop/uni/thesis/code/notebooks\n"
     ]
    }
   ],
   "source": [
    "!pwd"
   ]
  },
  {
   "cell_type": "code",
   "execution_count": 24,
   "metadata": {},
   "outputs": [],
   "source": [
    "from pathlib import Path"
   ]
  },
  {
   "cell_type": "code",
   "execution_count": 26,
   "metadata": {},
   "outputs": [],
   "source": [
    "script_dir = Path.cwd()\n"
   ]
  },
  {
   "cell_type": "code",
   "execution_count": 66,
   "metadata": {},
   "outputs": [],
   "source": [
    "file_path = script_dir.parent / \"data\" / \"flow18_annotated.fcs\""
   ]
  },
  {
   "cell_type": "code",
   "execution_count": 67,
   "metadata": {},
   "outputs": [],
   "source": [
    "# pre-process data \n",
    "sample = fk.Sample(file_path, sample_id='flow18', channel_labels=('Parameter_1', 'Parameter_10', 'Parameter_11', 'Parameter_12', 'Parameter_13', 'Parameter_14', 'Parameter_15', 'Parameter_16', 'Parameter_17', 'Parameter_18', 'Parameter_19', 'Parameter_2', 'Parameter_20', 'Parameter_21', 'Parameter_22', 'Parameter_23', 'Parameter_24', 'Parameter_3', 'Parameter_4', 'Parameter_5', 'Parameter_6', 'Parameter_7', 'Parameter_8', 'Parameter_9', 'SampleID', 'class'))\n",
    "df_events = sample.as_dataframe(source=\"raw\")\n",
    "\n",
    "# only use selected columns (this reduces dimensionality of data to 11)\n",
    "selected_columns = [\n",
    "    'Parameter_10', 'Parameter_11', 'Parameter_12', \n",
    "    'Parameter_13', 'Parameter_15', 'Parameter_18', 'Parameter_20', \n",
    "    'Parameter_21', 'Parameter_23', 'Parameter_8', 'Parameter_9', 'class'\n",
    "]\n",
    "\n",
    "df_filtered = df_events[selected_columns]\n",
    "\n",
    "X = df_filtered.drop(columns=['class'])  # All columns except 'class'\n",
    "y = df_filtered['class']"
   ]
  },
  {
   "cell_type": "code",
   "execution_count": 40,
   "metadata": {},
   "outputs": [
    {
     "data": {
      "text/plain": [
       "1000016    16.0\n",
       "1000017    16.0\n",
       "1000018    16.0\n",
       "1000019    16.0\n",
       "1000020    16.0\n",
       "Name: class, dtype: float64"
      ]
     },
     "execution_count": 40,
     "metadata": {},
     "output_type": "execute_result"
    }
   ],
   "source": [
    "y.tail()"
   ]
  },
  {
   "cell_type": "code",
   "execution_count": 41,
   "metadata": {},
   "outputs": [],
   "source": [
    "file_path = script_dir.parent / \"data\" / \"class_description_flow.csv\""
   ]
  },
  {
   "cell_type": "code",
   "execution_count": 42,
   "metadata": {},
   "outputs": [],
   "source": [
    "with open(file_path, \"r\") as file: \n",
    "    class_descriptions = file.read()"
   ]
  },
  {
   "cell_type": "code",
   "execution_count": 44,
   "metadata": {},
   "outputs": [
    {
     "name": "stdout",
     "output_type": "stream",
     "text": [
      "flow18 subset,class\n",
      "Lin-,1\n",
      "NK CD56+highCD16-,2\n",
      "iNKT,3\n",
      "CD4+ non-Tregs,4\n",
      "CD4+ Tregs,5\n",
      "CD8+ T CD56+CD16+,6\n",
      "monocytes CD14+CD16-,7\n",
      "population all monocytes CD14medCD16-,8\n",
      "population all monocytes CD14varCD16+,9\n",
      "CD8+ T CD56-CD16-,10\n",
      "NK CD16+CD56-,11\n",
      "dn T CD4-CD8-,12\n",
      "dp T CD4+CD8+,13\n",
      "gd T cells,14\n",
      "B cells,15\n",
      "dead cells,16\n"
     ]
    }
   ],
   "source": [
    "print(class_descriptions)"
   ]
  },
  {
   "cell_type": "code",
   "execution_count": null,
   "metadata": {},
   "outputs": [],
   "source": [
    "# we need to add scripts folder to path (this is important code!)\n",
    "import sys\n",
    "\n",
    "script_dir = Path.cwd().parent / \"scripts\"\n",
    "sys.path.append(str(script_dir))"
   ]
  },
  {
   "cell_type": "code",
   "execution_count": 58,
   "metadata": {},
   "outputs": [],
   "source": [
    "from datasets import load_flow18\n",
    "from datasets import load_mnist"
   ]
  },
  {
   "cell_type": "code",
   "execution_count": 62,
   "metadata": {},
   "outputs": [],
   "source": [
    "import datasets "
   ]
  },
  {
   "cell_type": "code",
   "execution_count": 63,
   "metadata": {},
   "outputs": [
    {
     "name": "stderr",
     "output_type": "stream",
     "text": [
      "/Users/soli/Desktop/uni/thesis/code/scripts/datasets.py:67: SettingWithCopyWarning: \n",
      "A value is trying to be set on a copy of a slice from a DataFrame.\n",
      "Try using .loc[row_indexer,col_indexer] = value instead\n",
      "\n",
      "See the caveats in the documentation: https://pandas.pydata.org/pandas-docs/stable/user_guide/indexing.html#returning-a-view-versus-a-copy\n",
      "  df_filtered[\"class\"] = df_filtered[\"class\"].map(class_mapping)\n"
     ]
    },
    {
     "ename": "KeyError",
     "evalue": "['class']",
     "output_type": "error",
     "traceback": [
      "\u001b[0;31m---------------------------------------------------------------------------\u001b[0m",
      "\u001b[0;31mKeyError\u001b[0m                                  Traceback (most recent call last)",
      "\u001b[0;32m/var/folders/4d/3496lhrx28308spwb6q8gb800000gn/T/ipykernel_89695/2069357049.py\u001b[0m in \u001b[0;36m?\u001b[0;34m()\u001b[0m\n\u001b[0;32m----> 1\u001b[0;31m \u001b[0mX\u001b[0m\u001b[0;34m,\u001b[0m \u001b[0my\u001b[0m \u001b[0;34m=\u001b[0m \u001b[0mdatasets\u001b[0m\u001b[0;34m.\u001b[0m\u001b[0mload_flow18\u001b[0m\u001b[0;34m(\u001b[0m\u001b[0;34m)\u001b[0m\u001b[0;34m\u001b[0m\u001b[0;34m\u001b[0m\u001b[0m\n\u001b[0m",
      "\u001b[0;32m~/Desktop/uni/thesis/code/scripts/datasets.py\u001b[0m in \u001b[0;36m?\u001b[0;34m()\u001b[0m\n\u001b[1;32m     66\u001b[0m     \u001b[0;31m# Apply mapping\u001b[0m\u001b[0;34m\u001b[0m\u001b[0;34m\u001b[0m\u001b[0m\n\u001b[1;32m     67\u001b[0m     \u001b[0mdf_filtered\u001b[0m\u001b[0;34m[\u001b[0m\u001b[0;34m\"class\"\u001b[0m\u001b[0;34m]\u001b[0m \u001b[0;34m=\u001b[0m \u001b[0mdf_filtered\u001b[0m\u001b[0;34m[\u001b[0m\u001b[0;34m\"class\"\u001b[0m\u001b[0;34m]\u001b[0m\u001b[0;34m.\u001b[0m\u001b[0mmap\u001b[0m\u001b[0;34m(\u001b[0m\u001b[0mclass_mapping\u001b[0m\u001b[0;34m)\u001b[0m\u001b[0;34m\u001b[0m\u001b[0;34m\u001b[0m\u001b[0m\n\u001b[1;32m     68\u001b[0m \u001b[0;34m\u001b[0m\u001b[0m\n\u001b[1;32m     69\u001b[0m     \u001b[0;31m# Leave out any rows where the class is NaN (i.e., ignored classes)\u001b[0m\u001b[0;34m\u001b[0m\u001b[0;34m\u001b[0m\u001b[0m\n\u001b[0;32m---> 70\u001b[0;31m     \u001b[0mdf_filtered\u001b[0m \u001b[0;34m=\u001b[0m \u001b[0mdf_filtered\u001b[0m\u001b[0;34m.\u001b[0m\u001b[0mdropna\u001b[0m\u001b[0;34m(\u001b[0m\u001b[0msubset\u001b[0m\u001b[0;34m=\u001b[0m\u001b[0;34m[\u001b[0m\u001b[0;34m\"class\"\u001b[0m\u001b[0;34m]\u001b[0m\u001b[0;34m)\u001b[0m\u001b[0;34m\u001b[0m\u001b[0;34m\u001b[0m\u001b[0m\n\u001b[0m\u001b[1;32m     71\u001b[0m \u001b[0;34m\u001b[0m\u001b[0m\n\u001b[1;32m     72\u001b[0m     \u001b[0;31m# Split into data (X) and labels (y)\u001b[0m\u001b[0;34m\u001b[0m\u001b[0;34m\u001b[0m\u001b[0m\n\u001b[1;32m     73\u001b[0m     \u001b[0mX\u001b[0m \u001b[0;34m=\u001b[0m \u001b[0mdf_filtered\u001b[0m\u001b[0;34m.\u001b[0m\u001b[0mdrop\u001b[0m\u001b[0;34m(\u001b[0m\u001b[0mcolumns\u001b[0m\u001b[0;34m=\u001b[0m\u001b[0;34m[\u001b[0m\u001b[0;34m'class'\u001b[0m\u001b[0;34m]\u001b[0m\u001b[0;34m)\u001b[0m\u001b[0;34m\u001b[0m\u001b[0;34m\u001b[0m\u001b[0m\n",
      "\u001b[0;32m~/anaconda3/envs/wissrech/lib/python3.12/site-packages/pandas/core/frame.py\u001b[0m in \u001b[0;36m?\u001b[0;34m(self, axis, how, thresh, subset, inplace, ignore_index)\u001b[0m\n\u001b[1;32m   6666\u001b[0m             \u001b[0max\u001b[0m \u001b[0;34m=\u001b[0m \u001b[0mself\u001b[0m\u001b[0;34m.\u001b[0m\u001b[0m_get_axis\u001b[0m\u001b[0;34m(\u001b[0m\u001b[0magg_axis\u001b[0m\u001b[0;34m)\u001b[0m\u001b[0;34m\u001b[0m\u001b[0;34m\u001b[0m\u001b[0m\n\u001b[1;32m   6667\u001b[0m             \u001b[0mindices\u001b[0m \u001b[0;34m=\u001b[0m \u001b[0max\u001b[0m\u001b[0;34m.\u001b[0m\u001b[0mget_indexer_for\u001b[0m\u001b[0;34m(\u001b[0m\u001b[0msubset\u001b[0m\u001b[0;34m)\u001b[0m\u001b[0;34m\u001b[0m\u001b[0;34m\u001b[0m\u001b[0m\n\u001b[1;32m   6668\u001b[0m             \u001b[0mcheck\u001b[0m \u001b[0;34m=\u001b[0m \u001b[0mindices\u001b[0m \u001b[0;34m==\u001b[0m \u001b[0;34m-\u001b[0m\u001b[0;36m1\u001b[0m\u001b[0;34m\u001b[0m\u001b[0;34m\u001b[0m\u001b[0m\n\u001b[1;32m   6669\u001b[0m             \u001b[0;32mif\u001b[0m \u001b[0mcheck\u001b[0m\u001b[0;34m.\u001b[0m\u001b[0many\u001b[0m\u001b[0;34m(\u001b[0m\u001b[0;34m)\u001b[0m\u001b[0;34m:\u001b[0m\u001b[0;34m\u001b[0m\u001b[0;34m\u001b[0m\u001b[0m\n\u001b[0;32m-> 6670\u001b[0;31m                 \u001b[0;32mraise\u001b[0m \u001b[0mKeyError\u001b[0m\u001b[0;34m(\u001b[0m\u001b[0mnp\u001b[0m\u001b[0;34m.\u001b[0m\u001b[0marray\u001b[0m\u001b[0;34m(\u001b[0m\u001b[0msubset\u001b[0m\u001b[0;34m)\u001b[0m\u001b[0;34m[\u001b[0m\u001b[0mcheck\u001b[0m\u001b[0;34m]\u001b[0m\u001b[0;34m.\u001b[0m\u001b[0mtolist\u001b[0m\u001b[0;34m(\u001b[0m\u001b[0;34m)\u001b[0m\u001b[0;34m)\u001b[0m\u001b[0;34m\u001b[0m\u001b[0;34m\u001b[0m\u001b[0m\n\u001b[0m\u001b[1;32m   6671\u001b[0m             \u001b[0magg_obj\u001b[0m \u001b[0;34m=\u001b[0m \u001b[0mself\u001b[0m\u001b[0;34m.\u001b[0m\u001b[0mtake\u001b[0m\u001b[0;34m(\u001b[0m\u001b[0mindices\u001b[0m\u001b[0;34m,\u001b[0m \u001b[0maxis\u001b[0m\u001b[0;34m=\u001b[0m\u001b[0magg_axis\u001b[0m\u001b[0;34m)\u001b[0m\u001b[0;34m\u001b[0m\u001b[0;34m\u001b[0m\u001b[0m\n\u001b[1;32m   6672\u001b[0m \u001b[0;34m\u001b[0m\u001b[0m\n\u001b[1;32m   6673\u001b[0m         \u001b[0;32mif\u001b[0m \u001b[0mthresh\u001b[0m \u001b[0;32mis\u001b[0m \u001b[0;32mnot\u001b[0m \u001b[0mlib\u001b[0m\u001b[0;34m.\u001b[0m\u001b[0mno_default\u001b[0m\u001b[0;34m:\u001b[0m\u001b[0;34m\u001b[0m\u001b[0;34m\u001b[0m\u001b[0m\n",
      "\u001b[0;31mKeyError\u001b[0m: ['class']"
     ]
    }
   ],
   "source": [
    "X, y = datasets.load_flow18()"
   ]
  },
  {
   "cell_type": "code",
   "execution_count": 86,
   "metadata": {},
   "outputs": [],
   "source": [
    "# pre-process data \n",
    "sample = fk.Sample(file_path, sample_id='flow18', channel_labels=('Parameter_1', 'Parameter_10', 'Parameter_11', 'Parameter_12', 'Parameter_13', 'Parameter_14', 'Parameter_15', 'Parameter_16', 'Parameter_17', 'Parameter_18', 'Parameter_19', 'Parameter_2', 'Parameter_20', 'Parameter_21', 'Parameter_22', 'Parameter_23', 'Parameter_24', 'Parameter_3', 'Parameter_4', 'Parameter_5', 'Parameter_6', 'Parameter_7', 'Parameter_8', 'Parameter_9', 'SampleID', 'class'))\n",
    "df_events = sample.as_dataframe(source=\"raw\")\n",
    "\n",
    "# only use selected columns (this reduces dimensionality of data to 11)\n",
    "selected_columns = [\n",
    "    'Parameter_10', 'Parameter_11', 'Parameter_12', \n",
    "    'Parameter_13', 'Parameter_15', 'Parameter_18', 'Parameter_20', \n",
    "    'Parameter_21', 'Parameter_23', 'Parameter_8', 'Parameter_9', 'class'\n",
    "]\n",
    "\n",
    "df_filtered = df_events[selected_columns]"
   ]
  },
  {
   "cell_type": "code",
   "execution_count": 87,
   "metadata": {},
   "outputs": [
    {
     "data": {
      "text/html": [
       "<div>\n",
       "<style scoped>\n",
       "    .dataframe tbody tr th:only-of-type {\n",
       "        vertical-align: middle;\n",
       "    }\n",
       "\n",
       "    .dataframe tbody tr th {\n",
       "        vertical-align: top;\n",
       "    }\n",
       "\n",
       "    .dataframe thead tr th {\n",
       "        text-align: left;\n",
       "    }\n",
       "</style>\n",
       "<table border=\"1\" class=\"dataframe\">\n",
       "  <thead>\n",
       "    <tr>\n",
       "      <th>pnn</th>\n",
       "      <th>Parameter_10</th>\n",
       "      <th>Parameter_11</th>\n",
       "      <th>Parameter_12</th>\n",
       "      <th>Parameter_13</th>\n",
       "      <th>Parameter_15</th>\n",
       "      <th>Parameter_18</th>\n",
       "      <th>Parameter_20</th>\n",
       "      <th>Parameter_21</th>\n",
       "      <th>Parameter_23</th>\n",
       "      <th>Parameter_8</th>\n",
       "      <th>Parameter_9</th>\n",
       "      <th>class</th>\n",
       "    </tr>\n",
       "    <tr>\n",
       "      <th>pns</th>\n",
       "      <th>NIR-CD14-CD19</th>\n",
       "      <th>BUV395-CD25</th>\n",
       "      <th>BUV737-CD127</th>\n",
       "      <th>BUV805-CD8</th>\n",
       "      <th>PE-Va24</th>\n",
       "      <th>PE-Cy7-gdTCR</th>\n",
       "      <th>BV510-CD3</th>\n",
       "      <th>BV605-CD16</th>\n",
       "      <th>BV786-CD56</th>\n",
       "      <th>APC-tet</th>\n",
       "      <th>Alexa-700-CD4</th>\n",
       "      <th></th>\n",
       "    </tr>\n",
       "  </thead>\n",
       "  <tbody>\n",
       "    <tr>\n",
       "      <th>1000016</th>\n",
       "      <td>5.859626</td>\n",
       "      <td>2.007653</td>\n",
       "      <td>3.192048</td>\n",
       "      <td>-3.266684</td>\n",
       "      <td>-0.201024</td>\n",
       "      <td>3.991230</td>\n",
       "      <td>0.115896</td>\n",
       "      <td>0.208394</td>\n",
       "      <td>-2.705160</td>\n",
       "      <td>-2.560941</td>\n",
       "      <td>5.152898</td>\n",
       "      <td>16.0</td>\n",
       "    </tr>\n",
       "    <tr>\n",
       "      <th>1000017</th>\n",
       "      <td>4.034067</td>\n",
       "      <td>1.366987</td>\n",
       "      <td>1.746496</td>\n",
       "      <td>-1.806659</td>\n",
       "      <td>-0.196401</td>\n",
       "      <td>2.638557</td>\n",
       "      <td>4.752035</td>\n",
       "      <td>-0.045468</td>\n",
       "      <td>-1.481764</td>\n",
       "      <td>-0.920642</td>\n",
       "      <td>3.922304</td>\n",
       "      <td>16.0</td>\n",
       "    </tr>\n",
       "    <tr>\n",
       "      <th>1000018</th>\n",
       "      <td>4.220667</td>\n",
       "      <td>1.107234</td>\n",
       "      <td>0.428217</td>\n",
       "      <td>-0.888986</td>\n",
       "      <td>0.343182</td>\n",
       "      <td>1.471061</td>\n",
       "      <td>2.174083</td>\n",
       "      <td>0.368313</td>\n",
       "      <td>0.944298</td>\n",
       "      <td>-0.368420</td>\n",
       "      <td>3.064315</td>\n",
       "      <td>16.0</td>\n",
       "    </tr>\n",
       "    <tr>\n",
       "      <th>1000019</th>\n",
       "      <td>4.774714</td>\n",
       "      <td>1.996269</td>\n",
       "      <td>1.792258</td>\n",
       "      <td>-1.209430</td>\n",
       "      <td>0.213883</td>\n",
       "      <td>3.299279</td>\n",
       "      <td>4.299771</td>\n",
       "      <td>0.113813</td>\n",
       "      <td>0.471343</td>\n",
       "      <td>-1.361186</td>\n",
       "      <td>4.017642</td>\n",
       "      <td>16.0</td>\n",
       "    </tr>\n",
       "    <tr>\n",
       "      <th>1000020</th>\n",
       "      <td>4.168883</td>\n",
       "      <td>1.279338</td>\n",
       "      <td>1.052871</td>\n",
       "      <td>-1.179784</td>\n",
       "      <td>0.188891</td>\n",
       "      <td>1.829633</td>\n",
       "      <td>1.392213</td>\n",
       "      <td>-0.030447</td>\n",
       "      <td>-0.924574</td>\n",
       "      <td>-0.424976</td>\n",
       "      <td>2.412138</td>\n",
       "      <td>16.0</td>\n",
       "    </tr>\n",
       "  </tbody>\n",
       "</table>\n",
       "</div>"
      ],
      "text/plain": [
       "pnn      Parameter_10 Parameter_11 Parameter_12 Parameter_13 Parameter_15  \\\n",
       "pns     NIR-CD14-CD19  BUV395-CD25 BUV737-CD127   BUV805-CD8      PE-Va24   \n",
       "1000016      5.859626     2.007653     3.192048    -3.266684    -0.201024   \n",
       "1000017      4.034067     1.366987     1.746496    -1.806659    -0.196401   \n",
       "1000018      4.220667     1.107234     0.428217    -0.888986     0.343182   \n",
       "1000019      4.774714     1.996269     1.792258    -1.209430     0.213883   \n",
       "1000020      4.168883     1.279338     1.052871    -1.179784     0.188891   \n",
       "\n",
       "pnn     Parameter_18 Parameter_20 Parameter_21 Parameter_23 Parameter_8  \\\n",
       "pns     PE-Cy7-gdTCR    BV510-CD3   BV605-CD16   BV786-CD56     APC-tet   \n",
       "1000016     3.991230     0.115896     0.208394    -2.705160   -2.560941   \n",
       "1000017     2.638557     4.752035    -0.045468    -1.481764   -0.920642   \n",
       "1000018     1.471061     2.174083     0.368313     0.944298   -0.368420   \n",
       "1000019     3.299279     4.299771     0.113813     0.471343   -1.361186   \n",
       "1000020     1.829633     1.392213    -0.030447    -0.924574   -0.424976   \n",
       "\n",
       "pnn       Parameter_9 class  \n",
       "pns     Alexa-700-CD4        \n",
       "1000016      5.152898  16.0  \n",
       "1000017      3.922304  16.0  \n",
       "1000018      3.064315  16.0  \n",
       "1000019      4.017642  16.0  \n",
       "1000020      2.412138  16.0  "
      ]
     },
     "execution_count": 87,
     "metadata": {},
     "output_type": "execute_result"
    }
   ],
   "source": [
    "df_filtered.tail()"
   ]
  },
  {
   "cell_type": "code",
   "execution_count": null,
   "metadata": {},
   "outputs": [],
   "source": [
    "class_mapping = {\n",
    "    1: \"Lin-\",\n",
    "    2: \"NK CD56highCD16-\",\n",
    "    3: \"iNKT\",\n",
    "    4: \"CD4+ non-Treg\",\n",
    "    5: \"CD4+ Tregs\",\n",
    "    6: \"CD8+ T CD56+CD16+\",\n",
    "    7: \"Mono CD14+CD16-\",\n",
    "    9: \"Mono CD14varCD16+\",\n",
    "    10: \"CD8 T CD56-\",\n",
    "    11: \"NK CD16+CD56lo\", \n",
    "    14: \"γδ T cells\",\n",
    "    15: \"Dead or B cells\",\n",
    "    16: \"Dead or B cells\"\n",
    "}"
   ]
  },
  {
   "cell_type": "code",
   "execution_count": null,
   "metadata": {},
   "outputs": [],
   "source": [
    "mapping = {\n",
    "    1: \"Lin-\", \n",
    "    2: \n",
    "}"
   ]
  },
  {
   "cell_type": "code",
   "execution_count": 89,
   "metadata": {},
   "outputs": [
    {
     "data": {
      "text/plain": [
       "MultiIndex([('Parameter_10', 'NIR-CD14-CD19'),\n",
       "            ('Parameter_11',   'BUV395-CD25'),\n",
       "            ('Parameter_12',  'BUV737-CD127'),\n",
       "            ('Parameter_13',    'BUV805-CD8'),\n",
       "            ('Parameter_15',       'PE-Va24'),\n",
       "            ('Parameter_18',  'PE-Cy7-gdTCR'),\n",
       "            ('Parameter_20',     'BV510-CD3'),\n",
       "            ('Parameter_21',    'BV605-CD16'),\n",
       "            ('Parameter_23',    'BV786-CD56'),\n",
       "            ( 'Parameter_8',       'APC-tet'),\n",
       "            ( 'Parameter_9', 'Alexa-700-CD4'),\n",
       "            (       'class',              '')],\n",
       "           names=['pnn', 'pns'])"
      ]
     },
     "execution_count": 89,
     "metadata": {},
     "output_type": "execute_result"
    }
   ],
   "source": [
    "df_filtered.columns"
   ]
  },
  {
   "cell_type": "code",
   "execution_count": 90,
   "metadata": {},
   "outputs": [
    {
     "name": "stderr",
     "output_type": "stream",
     "text": [
      "/var/folders/4d/3496lhrx28308spwb6q8gb800000gn/T/ipykernel_89695/3430507025.py:2: SettingWithCopyWarning: \n",
      "A value is trying to be set on a copy of a slice from a DataFrame.\n",
      "Try using .loc[row_indexer,col_indexer] = value instead\n",
      "\n",
      "See the caveats in the documentation: https://pandas.pydata.org/pandas-docs/stable/user_guide/indexing.html#returning-a-view-versus-a-copy\n",
      "  df_filtered[\"class\"] = df_filtered[\"class\"].map(mapping)\n"
     ]
    }
   ],
   "source": [
    "# Apply mapping\n",
    "df_filtered[\"class\"] = df_filtered[\"class\"].map(mapping)"
   ]
  },
  {
   "cell_type": "code",
   "execution_count": 91,
   "metadata": {},
   "outputs": [],
   "source": [
    "df_filtered = df_filtered.dropna(subset=[('class', '')])"
   ]
  },
  {
   "cell_type": "code",
   "execution_count": 92,
   "metadata": {},
   "outputs": [
    {
     "data": {
      "text/html": [
       "<div>\n",
       "<style scoped>\n",
       "    .dataframe tbody tr th:only-of-type {\n",
       "        vertical-align: middle;\n",
       "    }\n",
       "\n",
       "    .dataframe tbody tr th {\n",
       "        vertical-align: top;\n",
       "    }\n",
       "\n",
       "    .dataframe thead tr th {\n",
       "        text-align: left;\n",
       "    }\n",
       "</style>\n",
       "<table border=\"1\" class=\"dataframe\">\n",
       "  <thead>\n",
       "    <tr>\n",
       "      <th>pnn</th>\n",
       "      <th>Parameter_10</th>\n",
       "      <th>Parameter_11</th>\n",
       "      <th>Parameter_12</th>\n",
       "      <th>Parameter_13</th>\n",
       "      <th>Parameter_15</th>\n",
       "      <th>Parameter_18</th>\n",
       "      <th>Parameter_20</th>\n",
       "      <th>Parameter_21</th>\n",
       "      <th>Parameter_23</th>\n",
       "      <th>Parameter_8</th>\n",
       "      <th>Parameter_9</th>\n",
       "      <th>class</th>\n",
       "    </tr>\n",
       "    <tr>\n",
       "      <th>pns</th>\n",
       "      <th>NIR-CD14-CD19</th>\n",
       "      <th>BUV395-CD25</th>\n",
       "      <th>BUV737-CD127</th>\n",
       "      <th>BUV805-CD8</th>\n",
       "      <th>PE-Va24</th>\n",
       "      <th>PE-Cy7-gdTCR</th>\n",
       "      <th>BV510-CD3</th>\n",
       "      <th>BV605-CD16</th>\n",
       "      <th>BV786-CD56</th>\n",
       "      <th>APC-tet</th>\n",
       "      <th>Alexa-700-CD4</th>\n",
       "      <th></th>\n",
       "    </tr>\n",
       "  </thead>\n",
       "  <tbody>\n",
       "    <tr>\n",
       "      <th>0</th>\n",
       "      <td>1.294049</td>\n",
       "      <td>1.372984</td>\n",
       "      <td>1.150639</td>\n",
       "      <td>-0.270981</td>\n",
       "      <td>-0.026751</td>\n",
       "      <td>0.473704</td>\n",
       "      <td>0.884921</td>\n",
       "      <td>0.189498</td>\n",
       "      <td>-0.395297</td>\n",
       "      <td>-0.161873</td>\n",
       "      <td>0.980540</td>\n",
       "      <td>Lin-</td>\n",
       "    </tr>\n",
       "    <tr>\n",
       "      <th>1</th>\n",
       "      <td>1.531053</td>\n",
       "      <td>0.230975</td>\n",
       "      <td>0.130211</td>\n",
       "      <td>0.669266</td>\n",
       "      <td>0.128261</td>\n",
       "      <td>1.025142</td>\n",
       "      <td>0.078498</td>\n",
       "      <td>-0.102181</td>\n",
       "      <td>-0.400954</td>\n",
       "      <td>0.033938</td>\n",
       "      <td>1.286410</td>\n",
       "      <td>Lin-</td>\n",
       "    </tr>\n",
       "    <tr>\n",
       "      <th>2</th>\n",
       "      <td>1.316954</td>\n",
       "      <td>0.404094</td>\n",
       "      <td>0.409589</td>\n",
       "      <td>-0.679833</td>\n",
       "      <td>0.012887</td>\n",
       "      <td>0.500123</td>\n",
       "      <td>0.315362</td>\n",
       "      <td>0.279329</td>\n",
       "      <td>0.085067</td>\n",
       "      <td>0.016212</td>\n",
       "      <td>0.980396</td>\n",
       "      <td>Lin-</td>\n",
       "    </tr>\n",
       "    <tr>\n",
       "      <th>3</th>\n",
       "      <td>1.654891</td>\n",
       "      <td>0.244251</td>\n",
       "      <td>0.327706</td>\n",
       "      <td>-0.392105</td>\n",
       "      <td>0.080716</td>\n",
       "      <td>0.502929</td>\n",
       "      <td>0.451990</td>\n",
       "      <td>-0.143344</td>\n",
       "      <td>-0.179979</td>\n",
       "      <td>-0.163500</td>\n",
       "      <td>1.025463</td>\n",
       "      <td>Lin-</td>\n",
       "    </tr>\n",
       "    <tr>\n",
       "      <th>4</th>\n",
       "      <td>1.791981</td>\n",
       "      <td>0.159833</td>\n",
       "      <td>0.899491</td>\n",
       "      <td>-0.572280</td>\n",
       "      <td>0.147960</td>\n",
       "      <td>0.802209</td>\n",
       "      <td>1.092266</td>\n",
       "      <td>1.146736</td>\n",
       "      <td>0.814916</td>\n",
       "      <td>-0.021349</td>\n",
       "      <td>1.194455</td>\n",
       "      <td>Lin-</td>\n",
       "    </tr>\n",
       "  </tbody>\n",
       "</table>\n",
       "</div>"
      ],
      "text/plain": [
       "pnn  Parameter_10 Parameter_11 Parameter_12 Parameter_13 Parameter_15  \\\n",
       "pns NIR-CD14-CD19  BUV395-CD25 BUV737-CD127   BUV805-CD8      PE-Va24   \n",
       "0        1.294049     1.372984     1.150639    -0.270981    -0.026751   \n",
       "1        1.531053     0.230975     0.130211     0.669266     0.128261   \n",
       "2        1.316954     0.404094     0.409589    -0.679833     0.012887   \n",
       "3        1.654891     0.244251     0.327706    -0.392105     0.080716   \n",
       "4        1.791981     0.159833     0.899491    -0.572280     0.147960   \n",
       "\n",
       "pnn Parameter_18 Parameter_20 Parameter_21 Parameter_23 Parameter_8  \\\n",
       "pns PE-Cy7-gdTCR    BV510-CD3   BV605-CD16   BV786-CD56     APC-tet   \n",
       "0       0.473704     0.884921     0.189498    -0.395297   -0.161873   \n",
       "1       1.025142     0.078498    -0.102181    -0.400954    0.033938   \n",
       "2       0.500123     0.315362     0.279329     0.085067    0.016212   \n",
       "3       0.502929     0.451990    -0.143344    -0.179979   -0.163500   \n",
       "4       0.802209     1.092266     1.146736     0.814916   -0.021349   \n",
       "\n",
       "pnn   Parameter_9 class  \n",
       "pns Alexa-700-CD4        \n",
       "0        0.980540  Lin-  \n",
       "1        1.286410  Lin-  \n",
       "2        0.980396  Lin-  \n",
       "3        1.025463  Lin-  \n",
       "4        1.194455  Lin-  "
      ]
     },
     "execution_count": 92,
     "metadata": {},
     "output_type": "execute_result"
    }
   ],
   "source": [
    "df_filtered.head()"
   ]
  },
  {
   "cell_type": "code",
   "execution_count": 69,
   "metadata": {},
   "outputs": [],
   "source": [
    "# Define class mapping for merging & renaming (in order to only display classes that are in plots in the paper)\n",
    "class_mapping = {\n",
    "    \"Lin-\": \"Lin-\",\n",
    "    \"NK CD56+highCD16-\": \"NK CD56highCD16-\",\n",
    "    \"iNKT\": \"iNKT\",\n",
    "    \"CD4+ non-Tregs\": \"CD4+ non-Treg\",\n",
    "    \"CD4+ Tregs\": \"CD4+ Tregs\",\n",
    "    \"CD8+ T CD56+CD16+\": \"CD8+ T CD56+CD16+\",\n",
    "    \"monocytes CD14+CD16-\": \"Mono CD14+CD16-\",\n",
    "    \"population all monocytes CD14varCD16+\": \"Mono CD14varCD16+\",\n",
    "    \"CD8+ T CD56-CD16-\": \"CD8 T CD56-\",\n",
    "    \"gd T cells\": \"γδ T cells\",\n",
    "    \"B cells\": \"Dead or B cells\",\n",
    "    \"dead cells\": \"Dead or B cells\"\n",
    "}"
   ]
  },
  {
   "cell_type": "code",
   "execution_count": null,
   "metadata": {},
   "outputs": [],
   "source": []
  }
 ],
 "metadata": {
  "kernelspec": {
   "display_name": "wissrech",
   "language": "python",
   "name": "python3"
  },
  "language_info": {
   "codemirror_mode": {
    "name": "ipython",
    "version": 3
   },
   "file_extension": ".py",
   "mimetype": "text/x-python",
   "name": "python",
   "nbconvert_exporter": "python",
   "pygments_lexer": "ipython3",
   "version": "3.12.3"
  }
 },
 "nbformat": 4,
 "nbformat_minor": 2
}
